{
 "cells": [
  {
   "cell_type": "markdown",
   "metadata": {
    "collapsed": true
   },
   "source": [
    "# High School Origin of Jamaica's Track & Field Athletes "
   ]
  },
  {
   "cell_type": "markdown",
   "metadata": {},
   "source": [
    "## Overview"
   ]
  },
  {
   "cell_type": "markdown",
   "metadata": {},
   "source": [
    "Since 2008 Jamaica has had tremendous success in international track and field. This report looks at the high schools from which Jamaica's track and field athletes originated from. The dataset contains listed member of Jamaica's senior track and field teams at the **IAAF World Athletic Championships** and **Olympic Games**.\n",
    "\n",
    "The data was sourced from JAA press releases in the Jamaica Obserer and the Jamaica Gleaner as well as from Wikipedia. \n",
    "Each athlete's high school was found by a Google search for article's referring to the athlete's high school as well as a search in a dataset of Champs and local track meet records. Where an athlete attended more than one schools then both schools are listed. \n"
   ]
  },
  {
   "cell_type": "markdown",
   "metadata": {},
   "source": [
    "## Load Data "
   ]
  },
  {
   "cell_type": "code",
   "execution_count": 524,
   "metadata": {
    "collapsed": true
   },
   "outputs": [],
   "source": [
    "import pandas as pd\n",
    "import matplotlib.pyplot as plt\n",
    "import matplotlib.style as style\n",
    "import warnings\n",
    "\n",
    "warnings.simplefilter('ignore')\n",
    "style.use('fivethirtyeight')"
   ]
  },
  {
   "cell_type": "code",
   "execution_count": 525,
   "metadata": {},
   "outputs": [
    {
     "data": {
      "text/html": [
       "<div>\n",
       "<style scoped>\n",
       "    .dataframe tbody tr th:only-of-type {\n",
       "        vertical-align: middle;\n",
       "    }\n",
       "\n",
       "    .dataframe tbody tr th {\n",
       "        vertical-align: top;\n",
       "    }\n",
       "\n",
       "    .dataframe thead th {\n",
       "        text-align: right;\n",
       "    }\n",
       "</style>\n",
       "<table border=\"1\" class=\"dataframe\">\n",
       "  <thead>\n",
       "    <tr style=\"text-align: right;\">\n",
       "      <th></th>\n",
       "      <th>Athlete</th>\n",
       "      <th>School</th>\n",
       "      <th>PreviousSchool</th>\n",
       "      <th>Gender</th>\n",
       "      <th>Year</th>\n",
       "      <th>Meet</th>\n",
       "    </tr>\n",
       "  </thead>\n",
       "  <tbody>\n",
       "    <tr>\n",
       "      <th>0</th>\n",
       "      <td>Leah Nugent</td>\n",
       "      <td>Abington Senior</td>\n",
       "      <td>NaN</td>\n",
       "      <td>Female</td>\n",
       "      <td>2017</td>\n",
       "      <td>World Champs</td>\n",
       "    </tr>\n",
       "    <tr>\n",
       "      <th>1</th>\n",
       "      <td>Leah Nugent</td>\n",
       "      <td>Abington Senior</td>\n",
       "      <td>NaN</td>\n",
       "      <td>Female</td>\n",
       "      <td>2016</td>\n",
       "      <td>Olympics</td>\n",
       "    </tr>\n",
       "    <tr>\n",
       "      <th>2</th>\n",
       "      <td>Nickiesha Wilson</td>\n",
       "      <td>Alpha</td>\n",
       "      <td>NaN</td>\n",
       "      <td>Female</td>\n",
       "      <td>2016</td>\n",
       "      <td>Olympics</td>\n",
       "    </tr>\n",
       "    <tr>\n",
       "      <th>3</th>\n",
       "      <td>Nickiesha Wilson</td>\n",
       "      <td>Alpha</td>\n",
       "      <td>NaN</td>\n",
       "      <td>Female</td>\n",
       "      <td>2008</td>\n",
       "      <td>Olympics</td>\n",
       "    </tr>\n",
       "    <tr>\n",
       "      <th>4</th>\n",
       "      <td>Nickiesha Wilson</td>\n",
       "      <td>Alpha</td>\n",
       "      <td>NaN</td>\n",
       "      <td>Female</td>\n",
       "      <td>2009</td>\n",
       "      <td>World Champs</td>\n",
       "    </tr>\n",
       "  </tbody>\n",
       "</table>\n",
       "</div>"
      ],
      "text/plain": [
       "            Athlete           School PreviousSchool  Gender  Year  \\\n",
       "0       Leah Nugent  Abington Senior            NaN  Female  2017   \n",
       "1       Leah Nugent  Abington Senior            NaN  Female  2016   \n",
       "2  Nickiesha Wilson            Alpha            NaN  Female  2016   \n",
       "3  Nickiesha Wilson            Alpha            NaN  Female  2008   \n",
       "4  Nickiesha Wilson            Alpha            NaN  Female  2009   \n",
       "\n",
       "           Meet  \n",
       "0  World Champs  \n",
       "1      Olympics  \n",
       "2      Olympics  \n",
       "3      Olympics  \n",
       "4  World Champs  "
      ]
     },
     "execution_count": 525,
     "metadata": {},
     "output_type": "execute_result"
    }
   ],
   "source": [
    "colors = pd.read_csv('https://s3.us-east-2.amazonaws.com/jamaicatrack/Colors.csv')\n",
    "senior_team = pd.read_csv('https://s3.us-east-2.amazonaws.com/jamaicatrack/JamaicaSeniorTeam.csv', encoding='utf-8')\n",
    "senior_team.head(5)"
   ]
  },
  {
   "cell_type": "markdown",
   "metadata": {},
   "source": [
    "### Handling multiple schools"
   ]
  },
  {
   "cell_type": "markdown",
   "metadata": {},
   "source": [
    "Some athletes attended multiple schools so we need to add entries for their previous schools"
   ]
  },
  {
   "cell_type": "code",
   "execution_count": 526,
   "metadata": {},
   "outputs": [],
   "source": [
    "previous_schools = senior_team[~senior_team.PreviousSchool.isnull()]\n",
    "previous_schools.School = previous_schools.PreviousSchool\n",
    "previous_schools.PreviousSchool = ''\n",
    "previous_schools = previous_schools.reset_index(drop=True)\n",
    "senior_team = senior_team.append(previous_schools)"
   ]
  },
  {
   "cell_type": "markdown",
   "metadata": {},
   "source": [
    "Let's see if we have fixed **Leford Green** who attended Greater Portmore High and then Kingston College"
   ]
  },
  {
   "cell_type": "code",
   "execution_count": 527,
   "metadata": {},
   "outputs": [
    {
     "data": {
      "text/html": [
       "<div>\n",
       "<style scoped>\n",
       "    .dataframe tbody tr th:only-of-type {\n",
       "        vertical-align: middle;\n",
       "    }\n",
       "\n",
       "    .dataframe tbody tr th {\n",
       "        vertical-align: top;\n",
       "    }\n",
       "\n",
       "    .dataframe thead th {\n",
       "        text-align: right;\n",
       "    }\n",
       "</style>\n",
       "<table border=\"1\" class=\"dataframe\">\n",
       "  <thead>\n",
       "    <tr style=\"text-align: right;\">\n",
       "      <th></th>\n",
       "      <th>Athlete</th>\n",
       "      <th>School</th>\n",
       "      <th>PreviousSchool</th>\n",
       "      <th>Gender</th>\n",
       "      <th>Year</th>\n",
       "      <th>Meet</th>\n",
       "    </tr>\n",
       "  </thead>\n",
       "  <tbody>\n",
       "    <tr>\n",
       "      <th>153</th>\n",
       "      <td>Leford Green</td>\n",
       "      <td>Kingston College</td>\n",
       "      <td>Greater Portmore</td>\n",
       "      <td>Male</td>\n",
       "      <td>2009</td>\n",
       "      <td>World Champs</td>\n",
       "    </tr>\n",
       "    <tr>\n",
       "      <th>154</th>\n",
       "      <td>Leford Green</td>\n",
       "      <td>Kingston College</td>\n",
       "      <td>Greater Portmore</td>\n",
       "      <td>Male</td>\n",
       "      <td>2011</td>\n",
       "      <td>World Champs</td>\n",
       "    </tr>\n",
       "    <tr>\n",
       "      <th>155</th>\n",
       "      <td>Leford Green</td>\n",
       "      <td>Kingston College</td>\n",
       "      <td>Greater Portmore</td>\n",
       "      <td>Male</td>\n",
       "      <td>2012</td>\n",
       "      <td>Olympics</td>\n",
       "    </tr>\n",
       "    <tr>\n",
       "      <th>156</th>\n",
       "      <td>Leford Green</td>\n",
       "      <td>Kingston College</td>\n",
       "      <td>Greater Portmore</td>\n",
       "      <td>Male</td>\n",
       "      <td>2013</td>\n",
       "      <td>World Champs</td>\n",
       "    </tr>\n",
       "    <tr>\n",
       "      <th>157</th>\n",
       "      <td>Leford Green</td>\n",
       "      <td>Kingston College</td>\n",
       "      <td>Greater Portmore</td>\n",
       "      <td>Male</td>\n",
       "      <td>2015</td>\n",
       "      <td>World Champs</td>\n",
       "    </tr>\n",
       "    <tr>\n",
       "      <th>6</th>\n",
       "      <td>Leford Green</td>\n",
       "      <td>Greater Portmore</td>\n",
       "      <td></td>\n",
       "      <td>Male</td>\n",
       "      <td>2009</td>\n",
       "      <td>World Champs</td>\n",
       "    </tr>\n",
       "    <tr>\n",
       "      <th>7</th>\n",
       "      <td>Leford Green</td>\n",
       "      <td>Greater Portmore</td>\n",
       "      <td></td>\n",
       "      <td>Male</td>\n",
       "      <td>2011</td>\n",
       "      <td>World Champs</td>\n",
       "    </tr>\n",
       "    <tr>\n",
       "      <th>8</th>\n",
       "      <td>Leford Green</td>\n",
       "      <td>Greater Portmore</td>\n",
       "      <td></td>\n",
       "      <td>Male</td>\n",
       "      <td>2012</td>\n",
       "      <td>Olympics</td>\n",
       "    </tr>\n",
       "    <tr>\n",
       "      <th>9</th>\n",
       "      <td>Leford Green</td>\n",
       "      <td>Greater Portmore</td>\n",
       "      <td></td>\n",
       "      <td>Male</td>\n",
       "      <td>2013</td>\n",
       "      <td>World Champs</td>\n",
       "    </tr>\n",
       "    <tr>\n",
       "      <th>10</th>\n",
       "      <td>Leford Green</td>\n",
       "      <td>Greater Portmore</td>\n",
       "      <td></td>\n",
       "      <td>Male</td>\n",
       "      <td>2015</td>\n",
       "      <td>World Champs</td>\n",
       "    </tr>\n",
       "  </tbody>\n",
       "</table>\n",
       "</div>"
      ],
      "text/plain": [
       "          Athlete            School    PreviousSchool Gender  Year  \\\n",
       "153  Leford Green  Kingston College  Greater Portmore   Male  2009   \n",
       "154  Leford Green  Kingston College  Greater Portmore   Male  2011   \n",
       "155  Leford Green  Kingston College  Greater Portmore   Male  2012   \n",
       "156  Leford Green  Kingston College  Greater Portmore   Male  2013   \n",
       "157  Leford Green  Kingston College  Greater Portmore   Male  2015   \n",
       "6    Leford Green  Greater Portmore                     Male  2009   \n",
       "7    Leford Green  Greater Portmore                     Male  2011   \n",
       "8    Leford Green  Greater Portmore                     Male  2012   \n",
       "9    Leford Green  Greater Portmore                     Male  2013   \n",
       "10   Leford Green  Greater Portmore                     Male  2015   \n",
       "\n",
       "             Meet  \n",
       "153  World Champs  \n",
       "154  World Champs  \n",
       "155      Olympics  \n",
       "156  World Champs  \n",
       "157  World Champs  \n",
       "6    World Champs  \n",
       "7    World Champs  \n",
       "8        Olympics  \n",
       "9    World Champs  \n",
       "10   World Champs  "
      ]
     },
     "execution_count": 527,
     "metadata": {},
     "output_type": "execute_result"
    }
   ],
   "source": [
    "senior_team[senior_team.Athlete=='Leford Green']"
   ]
  },
  {
   "cell_type": "markdown",
   "metadata": {},
   "source": [
    "## Senior Caps By School"
   ]
  },
  {
   "cell_type": "markdown",
   "metadata": {},
   "source": [
    "A **cap** is an appearance by an athlete at an Olympic or World Champs for the duration of the Games. So Usain Bolt earns 1 cap for each Olympic and World Champs he has attended."
   ]
  },
  {
   "cell_type": "code",
   "execution_count": 528,
   "metadata": {},
   "outputs": [],
   "source": [
    "cap_by_school = senior_team[['School','Athlete']].groupby('School').count().rename(columns={'Athlete':'Spots'})\n",
    "cap_by_school = cap_by_school.sort_values('Spots', ascending=True)\n",
    "cap_by_school_topn = cap_by_school[cap_by_school.Spots > 10].reset_index()\n",
    "cap_by_school_topn ['Color'] = cap_by_school_topn.merge(colors, how='left').Color.fillna('blue')\n",
    "cap_by_school_topn=cap_by_school_topn.set_index('School')"
   ]
  },
  {
   "cell_type": "code",
   "execution_count": 529,
   "metadata": {},
   "outputs": [],
   "source": [
    "chart = cap_by_school_topn.plot.barh( y='Spots',  figsize = (14,9), legend=False, color=cap_by_school_topn.Color, grid=False)\n",
    "chart.axes.yaxis.label.set_visible(False)\n",
    "chart.axes.xaxis.label.set_visible(False)\n",
    "plt.title('Jamaica Athletics Caps By School 2008-2017', fontweight='bold', fontname='Arial', fontsize=21)\n",
    "chart.set_ylim(bottom=-1)\n",
    "chart.text(x=0, y=-1, s=' * A cap is an appearance by an athlete for the duration of a Games' + '  ' *30,\\\n",
    "           fontsize=16, color='#f0f0f0', backgroundcolor='grey')\n",
    "plt.yticks(fontweight='normal', fontname='Arial', size=14)\n",
    "plt.tick_params( axis='x', which='both', bottom='off',  top='off', labelbottom='off') \n",
    "plt.tight_layout()"
   ]
  },
  {
   "cell_type": "code",
   "execution_count": 530,
   "metadata": {},
   "outputs": [
    {
     "data": {
      "image/png": "[encoded data removed]",
      "text/plain": [
       "<matplotlib.figure.Figure at 0x1eea6ae9a20>"
      ]
     },
     "metadata": {},
     "output_type": "display_data"
    }
   ],
   "source": [
    "rects = chart.patches\n",
    "for rect in rects:\n",
    "    y_value = rect.get_y() + 0.1\n",
    "    x_value = rect.get_width() + rect.get_height() / 2\n",
    "    space = 0\n",
    "    va = 'bottom'\n",
    "    label = \"{:.0f}\".format(x_value)\n",
    "    plt.annotate( label, (x_value + 0.75, y_value), xytext=(0, space), textcoords=\"offset points\", ha='center', va=va) \n",
    "plt.show()"
   ]
  },
  {
   "cell_type": "markdown",
   "metadata": {},
   "source": [
    "## Senior Athletes By School"
   ]
  },
  {
   "cell_type": "markdown",
   "metadata": {},
   "source": [
    "Now we will look at a different measurement - **how many senior athletes have attended a given school**. In this case Usain Bolt counts as just one athlete regardless of how many caps he received."
   ]
  },
  {
   "cell_type": "code",
   "execution_count": 531,
   "metadata": {},
   "outputs": [],
   "source": [
    "athletes_by_school = senior_team[['School','Athlete']].drop_duplicates().groupby('School')\\\n",
    ".count().rename(columns={'Athlete':'Athletes'}).sort_values('Athletes')\n",
    "athletes_by_school_topn = athletes_by_school.tail(10).reset_index()\n",
    "athletes_by_school_topn ['Color'] = athletes_by_school_topn.merge(colors, how='left').Color.fillna('blue')\n",
    "athletes_by_school_topn=athletes_by_school_topn.set_index('School')"
   ]
  },
  {
   "cell_type": "code",
   "execution_count": 532,
   "metadata": {},
   "outputs": [],
   "source": [
    "chart = athletes_by_school_topn.plot.barh( y='Athletes',  figsize = (14,9), legend=False, color=athletes_by_school_topn.Color, grid=False)\n",
    "chart.axes.yaxis.label.set_visible(False)\n",
    "chart.axes.xaxis.label.set_visible(False)\n",
    "plt.title(\"Jamaica's Senior Athletes By School 2008-2017\", fontweight='bold', fontname='Arial', fontsize=21)\n",
    "chart.set_ylim(bottom=-1)\n",
    "chart.text(x=0, y=-1, s=' * Athletes selected for Olympic Games and World Championships ' + '  ' *30,\\\n",
    "           fontsize=16, color='#f0f0f0', backgroundcolor='grey')\n",
    "plt.yticks(fontweight='normal', fontname='Arial', size=14)\n",
    "plt.tick_params( axis='x', which='both', bottom='off',  top='off', labelbottom='off') \n",
    "plt.tight_layout()"
   ]
  },
  {
   "cell_type": "code",
   "execution_count": 533,
   "metadata": {
    "collapsed": true
   },
   "outputs": [],
   "source": [
    "rects = chart.patches\n",
    "for rect in rects:\n",
    "    y_value = rect.get_y() + 0.1\n",
    "    x_value = rect.get_width() + rect.get_height() / 2\n",
    "    space = 0\n",
    "    va = 'bottom'\n",
    "    label = \"{:.0f}\".format(x_value)\n",
    "    plt.annotate( label, (x_value + 0.1, y_value), xytext=(0, space), textcoords=\"offset points\", ha='center', va=va)"
   ]
  },
  {
   "cell_type": "code",
   "execution_count": 534,
   "metadata": {},
   "outputs": [
    {
     "data": {
      "image/png": "[encoded data removed]",
      "text/plain": [
       "<matplotlib.figure.Figure at 0x1eea6eafb70>"
      ]
     },
     "metadata": {},
     "output_type": "display_data"
    }
   ],
   "source": [
    "plt.show()"
   ]
  },
  {
   "cell_type": "markdown",
   "metadata": {},
   "source": [
    "Now we see that Vere and Calabar are tied on 17 athletes each with St Jago 3rd with 11"
   ]
  },
  {
   "cell_type": "markdown",
   "metadata": {},
   "source": [
    "### Vere Athletes"
   ]
  },
  {
   "cell_type": "code",
   "execution_count": 552,
   "metadata": {},
   "outputs": [
    {
     "data": {
      "text/html": [
       "<div>\n",
       "<style scoped>\n",
       "    .dataframe tbody tr th:only-of-type {\n",
       "        vertical-align: middle;\n",
       "    }\n",
       "\n",
       "    .dataframe tbody tr th {\n",
       "        vertical-align: top;\n",
       "    }\n",
       "\n",
       "    .dataframe thead th {\n",
       "        text-align: right;\n",
       "    }\n",
       "</style>\n",
       "<table border=\"1\" class=\"dataframe\">\n",
       "  <thead>\n",
       "    <tr style=\"text-align: right;\">\n",
       "      <th></th>\n",
       "      <th></th>\n",
       "      <th>Caps</th>\n",
       "    </tr>\n",
       "    <tr>\n",
       "      <th>School</th>\n",
       "      <th>Athlete</th>\n",
       "      <th></th>\n",
       "    </tr>\n",
       "  </thead>\n",
       "  <tbody>\n",
       "    <tr>\n",
       "      <th rowspan=\"17\" valign=\"top\">Vere</th>\n",
       "      <th>Kimberly Williams</th>\n",
       "      <td>7</td>\n",
       "    </tr>\n",
       "    <tr>\n",
       "      <th>Veronica Campbell-Brown</th>\n",
       "      <td>6</td>\n",
       "    </tr>\n",
       "    <tr>\n",
       "      <th>Shereefa Lloyd</th>\n",
       "      <td>4</td>\n",
       "    </tr>\n",
       "    <tr>\n",
       "      <th>Simone Facey</th>\n",
       "      <td>3</td>\n",
       "    </tr>\n",
       "    <tr>\n",
       "      <th>Shericka Jackson</th>\n",
       "      <td>3</td>\n",
       "    </tr>\n",
       "    <tr>\n",
       "      <th>Shaneika Thomas</th>\n",
       "      <td>3</td>\n",
       "    </tr>\n",
       "    <tr>\n",
       "      <th>Shadae Lawrence</th>\n",
       "      <td>2</td>\n",
       "    </tr>\n",
       "    <tr>\n",
       "      <th>Shevon Stoddart</th>\n",
       "      <td>2</td>\n",
       "    </tr>\n",
       "    <tr>\n",
       "      <th>Aleen Bailey</th>\n",
       "      <td>2</td>\n",
       "    </tr>\n",
       "    <tr>\n",
       "      <th>Patricia Hall</th>\n",
       "      <td>2</td>\n",
       "    </tr>\n",
       "    <tr>\n",
       "      <th>Mardrea Hyman</th>\n",
       "      <td>2</td>\n",
       "    </tr>\n",
       "    <tr>\n",
       "      <th>Jura Levy</th>\n",
       "      <td>2</td>\n",
       "    </tr>\n",
       "    <tr>\n",
       "      <th>Indira Spence</th>\n",
       "      <td>1</td>\n",
       "    </tr>\n",
       "    <tr>\n",
       "      <th>Michael Blackwood</th>\n",
       "      <td>1</td>\n",
       "    </tr>\n",
       "    <tr>\n",
       "      <th>Lacena Golding-Clarke</th>\n",
       "      <td>1</td>\n",
       "    </tr>\n",
       "    <tr>\n",
       "      <th>Steve Mullings</th>\n",
       "      <td>1</td>\n",
       "    </tr>\n",
       "    <tr>\n",
       "      <th>Ricardo Cunningham</th>\n",
       "      <td>1</td>\n",
       "    </tr>\n",
       "  </tbody>\n",
       "</table>\n",
       "</div>"
      ],
      "text/plain": [
       "                                Caps\n",
       "School Athlete                      \n",
       "Vere   Kimberly Williams           7\n",
       "       Veronica Campbell-Brown     6\n",
       "       Shereefa Lloyd              4\n",
       "       Simone Facey                3\n",
       "       Shericka Jackson            3\n",
       "       Shaneika Thomas             3\n",
       "       Shadae Lawrence             2\n",
       "       Shevon Stoddart             2\n",
       "       Aleen Bailey                2\n",
       "       Patricia Hall               2\n",
       "       Mardrea Hyman               2\n",
       "       Jura Levy                   2\n",
       "       Indira Spence               1\n",
       "       Michael Blackwood           1\n",
       "       Lacena Golding-Clarke       1\n",
       "       Steve Mullings              1\n",
       "       Ricardo Cunningham          1"
      ]
     },
     "execution_count": 552,
     "metadata": {},
     "output_type": "execute_result"
    }
   ],
   "source": [
    "senior_team[senior_team.School=='Vere'][['School','Athlete', 'Meet','Year']]\\\n",
    ".drop_duplicates().groupby(['School','Athlete']).count().drop('Year', axis=1).rename(columns={'Meet':'Caps'})\\\n",
    ".sort_values('Caps', ascending=False)"
   ]
  },
  {
   "cell_type": "markdown",
   "metadata": {},
   "source": [
    "### Calabar Athletes"
   ]
  },
  {
   "cell_type": "code",
   "execution_count": 553,
   "metadata": {},
   "outputs": [
    {
     "data": {
      "text/html": [
       "<div>\n",
       "<style scoped>\n",
       "    .dataframe tbody tr th:only-of-type {\n",
       "        vertical-align: middle;\n",
       "    }\n",
       "\n",
       "    .dataframe tbody tr th {\n",
       "        vertical-align: top;\n",
       "    }\n",
       "\n",
       "    .dataframe thead th {\n",
       "        text-align: right;\n",
       "    }\n",
       "</style>\n",
       "<table border=\"1\" class=\"dataframe\">\n",
       "  <thead>\n",
       "    <tr style=\"text-align: right;\">\n",
       "      <th></th>\n",
       "      <th></th>\n",
       "      <th>Caps</th>\n",
       "    </tr>\n",
       "    <tr>\n",
       "      <th>School</th>\n",
       "      <th>Athlete</th>\n",
       "      <th></th>\n",
       "    </tr>\n",
       "  </thead>\n",
       "  <tbody>\n",
       "    <tr>\n",
       "      <th rowspan=\"17\" valign=\"top\">Calabar</th>\n",
       "      <th>Andrew Riley</th>\n",
       "      <td>5</td>\n",
       "    </tr>\n",
       "    <tr>\n",
       "      <th>Dwight Thomas</th>\n",
       "      <td>4</td>\n",
       "    </tr>\n",
       "    <tr>\n",
       "      <th>Warren Weir</th>\n",
       "      <td>4</td>\n",
       "    </tr>\n",
       "    <tr>\n",
       "      <th>Fedrick Dacres</th>\n",
       "      <td>3</td>\n",
       "    </tr>\n",
       "    <tr>\n",
       "      <th>Jason Morgan</th>\n",
       "      <td>3</td>\n",
       "    </tr>\n",
       "    <tr>\n",
       "      <th>Josef Robertson</th>\n",
       "      <td>3</td>\n",
       "    </tr>\n",
       "    <tr>\n",
       "      <th>Maurice Smith</th>\n",
       "      <td>3</td>\n",
       "    </tr>\n",
       "    <tr>\n",
       "      <th>Javon Francis</th>\n",
       "      <td>3</td>\n",
       "    </tr>\n",
       "    <tr>\n",
       "      <th>Maurice Wignall</th>\n",
       "      <td>2</td>\n",
       "    </tr>\n",
       "    <tr>\n",
       "      <th>Travis Smikle</th>\n",
       "      <td>2</td>\n",
       "    </tr>\n",
       "    <tr>\n",
       "      <th>Deuce Carter</th>\n",
       "      <td>1</td>\n",
       "    </tr>\n",
       "    <tr>\n",
       "      <th>Jamari Rose</th>\n",
       "      <td>1</td>\n",
       "    </tr>\n",
       "    <tr>\n",
       "      <th>Jason Livermore</th>\n",
       "      <td>1</td>\n",
       "    </tr>\n",
       "    <tr>\n",
       "      <th>Chad Wright</th>\n",
       "      <td>1</td>\n",
       "    </tr>\n",
       "    <tr>\n",
       "      <th>Nicholas Gordon</th>\n",
       "      <td>1</td>\n",
       "    </tr>\n",
       "    <tr>\n",
       "      <th>Oshane Bailey</th>\n",
       "      <td>1</td>\n",
       "    </tr>\n",
       "    <tr>\n",
       "      <th>Sanjay Ayre</th>\n",
       "      <td>1</td>\n",
       "    </tr>\n",
       "  </tbody>\n",
       "</table>\n",
       "</div>"
      ],
      "text/plain": [
       "                         Caps\n",
       "School  Athlete              \n",
       "Calabar Andrew Riley        5\n",
       "        Dwight Thomas       4\n",
       "        Warren Weir         4\n",
       "        Fedrick Dacres      3\n",
       "        Jason Morgan        3\n",
       "        Josef Robertson     3\n",
       "        Maurice Smith       3\n",
       "        Javon Francis       3\n",
       "        Maurice Wignall     2\n",
       "        Travis Smikle       2\n",
       "        Deuce Carter        1\n",
       "        Jamari Rose         1\n",
       "        Jason Livermore     1\n",
       "        Chad Wright         1\n",
       "        Nicholas Gordon     1\n",
       "        Oshane Bailey       1\n",
       "        Sanjay Ayre         1"
      ]
     },
     "execution_count": 553,
     "metadata": {},
     "output_type": "execute_result"
    }
   ],
   "source": [
    "senior_team[senior_team.School=='Calabar'][['School','Athlete', 'Meet','Year']]\\\n",
    ".drop_duplicates().groupby(['School','Athlete']).count().drop('Year', axis=1).rename(columns={'Meet':'Caps'})\\\n",
    ".sort_values('Caps', ascending=False)"
   ]
  },
  {
   "cell_type": "code",
   "execution_count": null,
   "metadata": {
    "collapsed": true
   },
   "outputs": [],
   "source": []
  }
 ],
 "metadata": {
  "kernelspec": {
   "display_name": "Python 3",
   "language": "python",
   "name": "python3"
  },
  "language_info": {
   "codemirror_mode": {
    "name": "ipython",
    "version": 3
   },
   "file_extension": ".py",
   "mimetype": "text/x-python",
   "name": "python",
   "nbconvert_exporter": "python",
   "pygments_lexer": "ipython3",
   "version": "3.6.1"
  }
 },
 "nbformat": 4,
 "nbformat_minor": 1
}
